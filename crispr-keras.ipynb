{
 "cells": [
  {
   "cell_type": "code",
   "execution_count": 1,
   "id": "77edfb25",
   "metadata": {
    "_cell_guid": "b1076dfc-b9ad-4769-8c92-a6c4dae69d19",
    "_uuid": "8f2839f25d086af736a60e9eeb907d3b93b6e0e5",
    "execution": {
     "iopub.execute_input": "2025-01-18T13:52:36.999761Z",
     "iopub.status.busy": "2025-01-18T13:52:36.999160Z",
     "iopub.status.idle": "2025-01-18T13:52:52.576046Z",
     "shell.execute_reply": "2025-01-18T13:52:52.574932Z"
    },
    "papermill": {
     "duration": 15.584056,
     "end_time": "2025-01-18T13:52:52.577729",
     "exception": false,
     "start_time": "2025-01-18T13:52:36.993673",
     "status": "completed"
    },
    "tags": []
   },
   "outputs": [
    {
     "name": "stdout",
     "output_type": "stream",
     "text": [
      "/kaggle/input/filteredcsv-crispr/FINAL_FILTERED_CRISPR_DATA.csv\n"
     ]
    },
    {
     "name": "stderr",
     "output_type": "stream",
     "text": [
      "<ipython-input-1-b726eb54b9a5>:32: MatplotlibDeprecationWarning: The seaborn styles shipped by Matplotlib are deprecated since 3.6, as they no longer correspond to the styles shipped by seaborn. However, they will remain available as 'seaborn-v0_8-<style>'. Alternatively, directly use the seaborn API instead.\n",
      "  plt.style.use('seaborn-whitegrid')\n"
     ]
    }
   ],
   "source": [
    "# This Python 3 environment comes with many helpful analytics libraries installed\n",
    "# It is defined by the kaggle/python Docker image: https://github.com/kaggle/docker-python\n",
    "# For example, here's several helpful packages to load\n",
    "\n",
    "import numpy as np # linear algebra\n",
    "import pandas as pd # data processing, CSV file I/O (e.g. pd.read_csv)\n",
    "import torch\n",
    "import torch.nn as nn\n",
    "import torch.nn.functional as F\n",
    "from sklearn.model_selection import train_test_split\n",
    "from sklearn.preprocessing import StandardScaler\n",
    "from tensorflow.keras.preprocessing.text import Tokenizer\n",
    "from keras.preprocessing.sequence import pad_sequences\n",
    "from tensorflow.keras.layers import Input, Embedding, Conv1D, MaxPooling1D, Flatten, Dense, Dropout, BatchNormalization, Concatenate\n",
    "from keras.models import Sequential  \n",
    "from keras.layers import *  \n",
    "from tensorflow import keras\n",
    "from tensorflow.keras import layers\n",
    "from tensorflow.keras import callbacks\n",
    "from tensorflow.keras.models import Model\n",
    "\n",
    "\n",
    "# Input data files are available in the read-only \"../input/\" directory\n",
    "\n",
    "import os\n",
    "for dirname, _, filenames in os.walk('/kaggle/input'):\n",
    "    for filename in filenames:\n",
    "        print(os.path.join(dirname, filename))\n",
    "\n",
    "# Setup plotting\n",
    "import matplotlib.pyplot as plt\n",
    "plt.style.use('seaborn-whitegrid')\n",
    "# Set Matplotlib defaults\n",
    "plt.rc('figure', autolayout=True)\n",
    "plt.rc('axes', labelweight='bold', labelsize='large',\n",
    "       titleweight='bold', titlesize=18, titlepad=10)\n",
    "plt.rc('animation', html='html5')\n",
    "\n"
   ]
  },
  {
   "cell_type": "code",
   "execution_count": 2,
   "id": "54cda68b",
   "metadata": {
    "execution": {
     "iopub.execute_input": "2025-01-18T13:52:52.585967Z",
     "iopub.status.busy": "2025-01-18T13:52:52.585407Z",
     "iopub.status.idle": "2025-01-18T13:52:52.660299Z",
     "shell.execute_reply": "2025-01-18T13:52:52.659040Z"
    },
    "papermill": {
     "duration": 0.08064,
     "end_time": "2025-01-18T13:52:52.662055",
     "exception": false,
     "start_time": "2025-01-18T13:52:52.581415",
     "status": "completed"
    },
    "tags": []
   },
   "outputs": [
    {
     "data": {
      "text/html": [
       "<div>\n",
       "<style scoped>\n",
       "    .dataframe tbody tr th:only-of-type {\n",
       "        vertical-align: middle;\n",
       "    }\n",
       "\n",
       "    .dataframe tbody tr th {\n",
       "        vertical-align: top;\n",
       "    }\n",
       "\n",
       "    .dataframe thead th {\n",
       "        text-align: right;\n",
       "    }\n",
       "</style>\n",
       "<table border=\"1\" class=\"dataframe\">\n",
       "  <thead>\n",
       "    <tr style=\"text-align: right;\">\n",
       "      <th></th>\n",
       "      <th>Unnamed: 0</th>\n",
       "      <th>30mer</th>\n",
       "      <th>Target gene</th>\n",
       "      <th>Percent Peptide</th>\n",
       "      <th>Amino Acid Cut position</th>\n",
       "      <th>score_drug_gene_rank</th>\n",
       "      <th>score_drug_gene_threshold</th>\n",
       "      <th>drug</th>\n",
       "      <th>predictions</th>\n",
       "      <th>model_predictions</th>\n",
       "      <th>predictions(30mer)</th>\n",
       "    </tr>\n",
       "  </thead>\n",
       "  <tbody>\n",
       "    <tr>\n",
       "      <th>0</th>\n",
       "      <td>0</td>\n",
       "      <td>CAGAAAAAAAAACACTGCAACAAGAGGGTA</td>\n",
       "      <td>CD5</td>\n",
       "      <td>72.87</td>\n",
       "      <td>360.0</td>\n",
       "      <td>0.083682</td>\n",
       "      <td>0</td>\n",
       "      <td>nodrug</td>\n",
       "      <td>0.544412</td>\n",
       "      <td>[0.50806356]</td>\n",
       "      <td>[0.4836564]</td>\n",
       "    </tr>\n",
       "    <tr>\n",
       "      <th>1</th>\n",
       "      <td>1</td>\n",
       "      <td>TTTTAAAAAACCTACCGTAAACTCGGGTCA</td>\n",
       "      <td>NF1</td>\n",
       "      <td>65.80</td>\n",
       "      <td>1868.0</td>\n",
       "      <td>0.868207</td>\n",
       "      <td>1</td>\n",
       "      <td>PLX_2uM</td>\n",
       "      <td>0.617512</td>\n",
       "      <td>[0.62796874]</td>\n",
       "      <td>[0.55252229]</td>\n",
       "    </tr>\n",
       "    <tr>\n",
       "      <th>2</th>\n",
       "      <td>2</td>\n",
       "      <td>TCAGAAAAAGCAGCGTCAGTGGATTGGCCC</td>\n",
       "      <td>CD5</td>\n",
       "      <td>84.21</td>\n",
       "      <td>416.0</td>\n",
       "      <td>0.184100</td>\n",
       "      <td>0</td>\n",
       "      <td>nodrug</td>\n",
       "      <td>0.476232</td>\n",
       "      <td>[0.43904996]</td>\n",
       "      <td>[0.48895234]</td>\n",
       "    </tr>\n",
       "    <tr>\n",
       "      <th>3</th>\n",
       "      <td>3</td>\n",
       "      <td>AATAAAAAATAGGATTCCCAGCTTTGGAAG</td>\n",
       "      <td>NF1</td>\n",
       "      <td>56.39</td>\n",
       "      <td>1601.0</td>\n",
       "      <td>0.432065</td>\n",
       "      <td>0</td>\n",
       "      <td>PLX_2uM</td>\n",
       "      <td>0.459882</td>\n",
       "      <td>[0.41283168]</td>\n",
       "      <td>[0.38075222]</td>\n",
       "    </tr>\n",
       "    <tr>\n",
       "      <th>4</th>\n",
       "      <td>4</td>\n",
       "      <td>GATGAAAAATATGTAAACAGCATTTGGGAC</td>\n",
       "      <td>CUL3</td>\n",
       "      <td>4.30</td>\n",
       "      <td>33.0</td>\n",
       "      <td>0.149351</td>\n",
       "      <td>0</td>\n",
       "      <td>PLX_2uM</td>\n",
       "      <td>0.290841</td>\n",
       "      <td>[0.24229578]</td>\n",
       "      <td>[0.25223681]</td>\n",
       "    </tr>\n",
       "  </tbody>\n",
       "</table>\n",
       "</div>"
      ],
      "text/plain": [
       "   Unnamed: 0                           30mer Target gene  Percent Peptide  \\\n",
       "0           0  CAGAAAAAAAAACACTGCAACAAGAGGGTA         CD5            72.87   \n",
       "1           1  TTTTAAAAAACCTACCGTAAACTCGGGTCA         NF1            65.80   \n",
       "2           2  TCAGAAAAAGCAGCGTCAGTGGATTGGCCC         CD5            84.21   \n",
       "3           3  AATAAAAAATAGGATTCCCAGCTTTGGAAG         NF1            56.39   \n",
       "4           4  GATGAAAAATATGTAAACAGCATTTGGGAC        CUL3             4.30   \n",
       "\n",
       "   Amino Acid Cut position  score_drug_gene_rank  score_drug_gene_threshold  \\\n",
       "0                    360.0              0.083682                          0   \n",
       "1                   1868.0              0.868207                          1   \n",
       "2                    416.0              0.184100                          0   \n",
       "3                   1601.0              0.432065                          0   \n",
       "4                     33.0              0.149351                          0   \n",
       "\n",
       "      drug  predictions model_predictions predictions(30mer)  \n",
       "0   nodrug     0.544412      [0.50806356]        [0.4836564]  \n",
       "1  PLX_2uM     0.617512      [0.62796874]       [0.55252229]  \n",
       "2   nodrug     0.476232      [0.43904996]       [0.48895234]  \n",
       "3  PLX_2uM     0.459882      [0.41283168]       [0.38075222]  \n",
       "4  PLX_2uM     0.290841      [0.24229578]       [0.25223681]  "
      ]
     },
     "execution_count": 2,
     "metadata": {},
     "output_type": "execute_result"
    }
   ],
   "source": [
    "#Sets up the data\n",
    "cas = pd.read_csv('../input/filteredcsv-crispr/FINAL_FILTERED_CRISPR_DATA.csv')\n",
    "sequences = cas['30mer']\n",
    "numerical_features = cas[['Percent Peptide', 'Amino Acid Cut position', 'score_drug_gene_rank']]\n",
    "labels = cas['predictions']\n",
    "\n",
    "cas.head()"
   ]
  },
  {
   "cell_type": "code",
   "execution_count": 3,
   "id": "fed3f677",
   "metadata": {
    "execution": {
     "iopub.execute_input": "2025-01-18T13:52:52.670823Z",
     "iopub.status.busy": "2025-01-18T13:52:52.670457Z",
     "iopub.status.idle": "2025-01-18T13:52:52.779086Z",
     "shell.execute_reply": "2025-01-18T13:52:52.778073Z"
    },
    "papermill": {
     "duration": 0.114757,
     "end_time": "2025-01-18T13:52:52.780754",
     "exception": false,
     "start_time": "2025-01-18T13:52:52.665997",
     "status": "completed"
    },
    "tags": []
   },
   "outputs": [
    {
     "data": {
      "text/plain": [
       "((4248, 30), (1062, 30), (4248, 3), (1062, 3), (4248,), (1062,))"
      ]
     },
     "execution_count": 3,
     "metadata": {},
     "output_type": "execute_result"
    }
   ],
   "source": [
    "\n",
    "tokenizer = Tokenizer(char_level=True)  # Treat each nucleotide as a character\n",
    "tokenizer.fit_on_texts(sequences)\n",
    "sequences_encoded = tokenizer.texts_to_sequences(sequences)\n",
    "sequences_padded = pad_sequences(sequences_encoded, maxlen=30)  # 30mer\n",
    "\n",
    "# Normalization\n",
    "scaler = StandardScaler()\n",
    "numerical_features_scaled = scaler.fit_transform(numerical_features)\n",
    "\n",
    "# Split the data into training and testing sets\n",
    "X_seq_train, X_seq_test, X_num_train, X_num_test, y_train, y_test = train_test_split(\n",
    "    sequences_padded, numerical_features_scaled, labels, test_size=0.2, random_state=42\n",
    ")\n",
    "\n",
    "\n",
    "(X_seq_train.shape, X_seq_test.shape, X_num_train.shape, X_num_test.shape, y_train.shape, y_test.shape)"
   ]
  },
  {
   "cell_type": "code",
   "execution_count": 4,
   "id": "23c5dea6",
   "metadata": {
    "execution": {
     "iopub.execute_input": "2025-01-18T13:52:52.789565Z",
     "iopub.status.busy": "2025-01-18T13:52:52.789165Z",
     "iopub.status.idle": "2025-01-18T13:52:52.878755Z",
     "shell.execute_reply": "2025-01-18T13:52:52.877557Z"
    },
    "papermill": {
     "duration": 0.096272,
     "end_time": "2025-01-18T13:52:52.880840",
     "exception": false,
     "start_time": "2025-01-18T13:52:52.784568",
     "status": "completed"
    },
    "tags": []
   },
   "outputs": [],
   "source": [
    "# Define the model extra features\n",
    "seq_input = Input(shape=(30,), name='seq_input')\n",
    "embedding = Embedding(input_dim=5, output_dim=16)(seq_input)\n",
    "conv1 = Conv1D(filters=64, kernel_size=3, activation='relu')(embedding)\n",
    "pool1 = MaxPooling1D(pool_size=2)(conv1)\n",
    "conv2 = Conv1D(filters=128, kernel_size=3, activation='relu')(pool1)\n",
    "pool2 = MaxPooling1D(pool_size=2)(conv2)\n",
    "flatten_seq = Flatten()(pool2)\n"
   ]
  },
  {
   "cell_type": "code",
   "execution_count": 5,
   "id": "80737912",
   "metadata": {
    "execution": {
     "iopub.execute_input": "2025-01-18T13:52:52.889674Z",
     "iopub.status.busy": "2025-01-18T13:52:52.889307Z",
     "iopub.status.idle": "2025-01-18T13:52:52.953088Z",
     "shell.execute_reply": "2025-01-18T13:52:52.951882Z"
    },
    "papermill": {
     "duration": 0.07033,
     "end_time": "2025-01-18T13:52:52.955055",
     "exception": false,
     "start_time": "2025-01-18T13:52:52.884725",
     "status": "completed"
    },
    "tags": []
   },
   "outputs": [],
   "source": [
    "# input for numerical collumns\n",
    "num_input = Input(shape=(3,), name='num_input')\n",
    "bn1 = BatchNormalization()(num_input)\n",
    "dense1 = Dense(256, activation='relu')(bn1)\n",
    "bn2 = BatchNormalization()(dense1)\n",
    "dropout1 = Dropout(0.3)(bn2)\n",
    "dense2 = Dense(256, activation='relu')(dropout1)\n",
    "bn3 = BatchNormalization()(dense2)\n",
    "dropout2 = Dropout(0.3)(bn3)\n",
    "dense3 = Dense(128, activation='relu')(dropout2)"
   ]
  },
  {
   "cell_type": "code",
   "execution_count": 6,
   "id": "1b4702b2",
   "metadata": {
    "execution": {
     "iopub.execute_input": "2025-01-18T13:52:52.964506Z",
     "iopub.status.busy": "2025-01-18T13:52:52.964161Z",
     "iopub.status.idle": "2025-01-18T13:52:52.986337Z",
     "shell.execute_reply": "2025-01-18T13:52:52.985391Z"
    },
    "papermill": {
     "duration": 0.029066,
     "end_time": "2025-01-18T13:52:52.988334",
     "exception": false,
     "start_time": "2025-01-18T13:52:52.959268",
     "status": "completed"
    },
    "tags": []
   },
   "outputs": [],
   "source": [
    "# Combine the features\n",
    "combined = Concatenate()([flatten_seq, dense3])\n",
    "fc_combined = Dense(64, activation='relu')(combined)\n",
    "output = Dense(1, activation='linear', name='output')(fc_combined)"
   ]
  },
  {
   "cell_type": "code",
   "execution_count": 7,
   "id": "78e547ee",
   "metadata": {
    "execution": {
     "iopub.execute_input": "2025-01-18T13:52:52.997144Z",
     "iopub.status.busy": "2025-01-18T13:52:52.996775Z",
     "iopub.status.idle": "2025-01-18T13:52:53.015259Z",
     "shell.execute_reply": "2025-01-18T13:52:53.014212Z"
    },
    "papermill": {
     "duration": 0.025208,
     "end_time": "2025-01-18T13:52:53.017363",
     "exception": false,
     "start_time": "2025-01-18T13:52:52.992155",
     "status": "completed"
    },
    "tags": []
   },
   "outputs": [],
   "source": [
    "# Model\n",
    "model = Model(inputs=[seq_input, num_input], outputs=output)\n",
    "model.compile(optimizer='adam', loss='mean_squared_error', metrics=['mean_squared_error'])"
   ]
  },
  {
   "cell_type": "code",
   "execution_count": 8,
   "id": "7e65f9eb",
   "metadata": {
    "execution": {
     "iopub.execute_input": "2025-01-18T13:52:53.026652Z",
     "iopub.status.busy": "2025-01-18T13:52:53.026302Z",
     "iopub.status.idle": "2025-01-18T13:53:25.711892Z",
     "shell.execute_reply": "2025-01-18T13:53:25.710898Z"
    },
    "papermill": {
     "duration": 32.692218,
     "end_time": "2025-01-18T13:53:25.713844",
     "exception": false,
     "start_time": "2025-01-18T13:52:53.021626",
     "status": "completed"
    },
    "tags": []
   },
   "outputs": [
    {
     "name": "stdout",
     "output_type": "stream",
     "text": [
      "Epoch 1/30\n",
      "\u001b[1m133/133\u001b[0m \u001b[32m━━━━━━━━━━━━━━━━━━━━\u001b[0m\u001b[37m\u001b[0m \u001b[1m5s\u001b[0m 9ms/step - loss: 0.0941 - mean_squared_error: 0.0941 - val_loss: 0.0465 - val_mean_squared_error: 0.0465\n",
      "Epoch 2/30\n",
      "\u001b[1m133/133\u001b[0m \u001b[32m━━━━━━━━━━━━━━━━━━━━\u001b[0m\u001b[37m\u001b[0m \u001b[1m1s\u001b[0m 7ms/step - loss: 0.0164 - mean_squared_error: 0.0164 - val_loss: 0.0112 - val_mean_squared_error: 0.0112\n",
      "Epoch 3/30\n",
      "\u001b[1m133/133\u001b[0m \u001b[32m━━━━━━━━━━━━━━━━━━━━\u001b[0m\u001b[37m\u001b[0m \u001b[1m1s\u001b[0m 7ms/step - loss: 0.0101 - mean_squared_error: 0.0101 - val_loss: 0.0059 - val_mean_squared_error: 0.0059\n",
      "Epoch 4/30\n",
      "\u001b[1m133/133\u001b[0m \u001b[32m━━━━━━━━━━━━━━━━━━━━\u001b[0m\u001b[37m\u001b[0m \u001b[1m1s\u001b[0m 7ms/step - loss: 0.0062 - mean_squared_error: 0.0062 - val_loss: 0.0048 - val_mean_squared_error: 0.0048\n",
      "Epoch 5/30\n",
      "\u001b[1m133/133\u001b[0m \u001b[32m━━━━━━━━━━━━━━━━━━━━\u001b[0m\u001b[37m\u001b[0m \u001b[1m1s\u001b[0m 7ms/step - loss: 0.0048 - mean_squared_error: 0.0048 - val_loss: 0.0031 - val_mean_squared_error: 0.0031\n",
      "Epoch 6/30\n",
      "\u001b[1m133/133\u001b[0m \u001b[32m━━━━━━━━━━━━━━━━━━━━\u001b[0m\u001b[37m\u001b[0m \u001b[1m1s\u001b[0m 7ms/step - loss: 0.0041 - mean_squared_error: 0.0041 - val_loss: 0.0032 - val_mean_squared_error: 0.0032\n",
      "Epoch 7/30\n",
      "\u001b[1m133/133\u001b[0m \u001b[32m━━━━━━━━━━━━━━━━━━━━\u001b[0m\u001b[37m\u001b[0m \u001b[1m1s\u001b[0m 7ms/step - loss: 0.0041 - mean_squared_error: 0.0041 - val_loss: 0.0034 - val_mean_squared_error: 0.0034\n",
      "Epoch 8/30\n",
      "\u001b[1m133/133\u001b[0m \u001b[32m━━━━━━━━━━━━━━━━━━━━\u001b[0m\u001b[37m\u001b[0m \u001b[1m1s\u001b[0m 7ms/step - loss: 0.0036 - mean_squared_error: 0.0036 - val_loss: 0.0034 - val_mean_squared_error: 0.0034\n",
      "Epoch 9/30\n",
      "\u001b[1m133/133\u001b[0m \u001b[32m━━━━━━━━━━━━━━━━━━━━\u001b[0m\u001b[37m\u001b[0m \u001b[1m1s\u001b[0m 7ms/step - loss: 0.0032 - mean_squared_error: 0.0032 - val_loss: 0.0040 - val_mean_squared_error: 0.0040\n",
      "Epoch 10/30\n",
      "\u001b[1m133/133\u001b[0m \u001b[32m━━━━━━━━━━━━━━━━━━━━\u001b[0m\u001b[37m\u001b[0m \u001b[1m1s\u001b[0m 8ms/step - loss: 0.0034 - mean_squared_error: 0.0034 - val_loss: 0.0026 - val_mean_squared_error: 0.0026\n",
      "Epoch 11/30\n",
      "\u001b[1m133/133\u001b[0m \u001b[32m━━━━━━━━━━━━━━━━━━━━\u001b[0m\u001b[37m\u001b[0m \u001b[1m1s\u001b[0m 8ms/step - loss: 0.0033 - mean_squared_error: 0.0033 - val_loss: 0.0031 - val_mean_squared_error: 0.0031\n",
      "Epoch 12/30\n",
      "\u001b[1m133/133\u001b[0m \u001b[32m━━━━━━━━━━━━━━━━━━━━\u001b[0m\u001b[37m\u001b[0m \u001b[1m1s\u001b[0m 7ms/step - loss: 0.0025 - mean_squared_error: 0.0025 - val_loss: 0.0035 - val_mean_squared_error: 0.0035\n",
      "Epoch 13/30\n",
      "\u001b[1m133/133\u001b[0m \u001b[32m━━━━━━━━━━━━━━━━━━━━\u001b[0m\u001b[37m\u001b[0m \u001b[1m1s\u001b[0m 7ms/step - loss: 0.0026 - mean_squared_error: 0.0026 - val_loss: 0.0024 - val_mean_squared_error: 0.0024\n",
      "Epoch 14/30\n",
      "\u001b[1m133/133\u001b[0m \u001b[32m━━━━━━━━━━━━━━━━━━━━\u001b[0m\u001b[37m\u001b[0m \u001b[1m1s\u001b[0m 7ms/step - loss: 0.0023 - mean_squared_error: 0.0023 - val_loss: 0.0023 - val_mean_squared_error: 0.0023\n",
      "Epoch 15/30\n",
      "\u001b[1m133/133\u001b[0m \u001b[32m━━━━━━━━━━━━━━━━━━━━\u001b[0m\u001b[37m\u001b[0m \u001b[1m1s\u001b[0m 7ms/step - loss: 0.0025 - mean_squared_error: 0.0025 - val_loss: 0.0028 - val_mean_squared_error: 0.0028\n",
      "Epoch 16/30\n",
      "\u001b[1m133/133\u001b[0m \u001b[32m━━━━━━━━━━━━━━━━━━━━\u001b[0m\u001b[37m\u001b[0m \u001b[1m1s\u001b[0m 7ms/step - loss: 0.0026 - mean_squared_error: 0.0026 - val_loss: 0.0022 - val_mean_squared_error: 0.0022\n",
      "Epoch 17/30\n",
      "\u001b[1m133/133\u001b[0m \u001b[32m━━━━━━━━━━━━━━━━━━━━\u001b[0m\u001b[37m\u001b[0m \u001b[1m1s\u001b[0m 7ms/step - loss: 0.0022 - mean_squared_error: 0.0022 - val_loss: 0.0021 - val_mean_squared_error: 0.0021\n",
      "Epoch 18/30\n",
      "\u001b[1m133/133\u001b[0m \u001b[32m━━━━━━━━━━━━━━━━━━━━\u001b[0m\u001b[37m\u001b[0m \u001b[1m1s\u001b[0m 7ms/step - loss: 0.0018 - mean_squared_error: 0.0018 - val_loss: 0.0034 - val_mean_squared_error: 0.0034\n",
      "Epoch 19/30\n",
      "\u001b[1m133/133\u001b[0m \u001b[32m━━━━━━━━━━━━━━━━━━━━\u001b[0m\u001b[37m\u001b[0m \u001b[1m1s\u001b[0m 7ms/step - loss: 0.0029 - mean_squared_error: 0.0029 - val_loss: 0.0022 - val_mean_squared_error: 0.0022\n",
      "Epoch 20/30\n",
      "\u001b[1m133/133\u001b[0m \u001b[32m━━━━━━━━━━━━━━━━━━━━\u001b[0m\u001b[37m\u001b[0m \u001b[1m1s\u001b[0m 7ms/step - loss: 0.0024 - mean_squared_error: 0.0024 - val_loss: 0.0023 - val_mean_squared_error: 0.0023\n",
      "Epoch 21/30\n",
      "\u001b[1m133/133\u001b[0m \u001b[32m━━━━━━━━━━━━━━━━━━━━\u001b[0m\u001b[37m\u001b[0m \u001b[1m1s\u001b[0m 7ms/step - loss: 0.0017 - mean_squared_error: 0.0017 - val_loss: 0.0022 - val_mean_squared_error: 0.0022\n",
      "Epoch 22/30\n",
      "\u001b[1m133/133\u001b[0m \u001b[32m━━━━━━━━━━━━━━━━━━━━\u001b[0m\u001b[37m\u001b[0m \u001b[1m1s\u001b[0m 7ms/step - loss: 0.0019 - mean_squared_error: 0.0019 - val_loss: 0.0022 - val_mean_squared_error: 0.0022\n",
      "Epoch 23/30\n",
      "\u001b[1m133/133\u001b[0m \u001b[32m━━━━━━━━━━━━━━━━━━━━\u001b[0m\u001b[37m\u001b[0m \u001b[1m1s\u001b[0m 7ms/step - loss: 0.0018 - mean_squared_error: 0.0018 - val_loss: 0.0021 - val_mean_squared_error: 0.0021\n",
      "Epoch 24/30\n",
      "\u001b[1m133/133\u001b[0m \u001b[32m━━━━━━━━━━━━━━━━━━━━\u001b[0m\u001b[37m\u001b[0m \u001b[1m1s\u001b[0m 7ms/step - loss: 0.0015 - mean_squared_error: 0.0015 - val_loss: 0.0022 - val_mean_squared_error: 0.0022\n",
      "Epoch 25/30\n",
      "\u001b[1m133/133\u001b[0m \u001b[32m━━━━━━━━━━━━━━━━━━━━\u001b[0m\u001b[37m\u001b[0m \u001b[1m1s\u001b[0m 7ms/step - loss: 0.0014 - mean_squared_error: 0.0014 - val_loss: 0.0022 - val_mean_squared_error: 0.0022\n",
      "Epoch 26/30\n",
      "\u001b[1m133/133\u001b[0m \u001b[32m━━━━━━━━━━━━━━━━━━━━\u001b[0m\u001b[37m\u001b[0m \u001b[1m1s\u001b[0m 7ms/step - loss: 0.0016 - mean_squared_error: 0.0016 - val_loss: 0.0022 - val_mean_squared_error: 0.0022\n",
      "Epoch 27/30\n",
      "\u001b[1m133/133\u001b[0m \u001b[32m━━━━━━━━━━━━━━━━━━━━\u001b[0m\u001b[37m\u001b[0m \u001b[1m1s\u001b[0m 7ms/step - loss: 0.0014 - mean_squared_error: 0.0014 - val_loss: 0.0024 - val_mean_squared_error: 0.0024\n",
      "Epoch 28/30\n",
      "\u001b[1m133/133\u001b[0m \u001b[32m━━━━━━━━━━━━━━━━━━━━\u001b[0m\u001b[37m\u001b[0m \u001b[1m1s\u001b[0m 7ms/step - loss: 0.0013 - mean_squared_error: 0.0013 - val_loss: 0.0026 - val_mean_squared_error: 0.0026\n",
      "Epoch 29/30\n",
      "\u001b[1m133/133\u001b[0m \u001b[32m━━━━━━━━━━━━━━━━━━━━\u001b[0m\u001b[37m\u001b[0m \u001b[1m1s\u001b[0m 7ms/step - loss: 0.0013 - mean_squared_error: 0.0013 - val_loss: 0.0027 - val_mean_squared_error: 0.0027\n",
      "Epoch 30/30\n",
      "\u001b[1m133/133\u001b[0m \u001b[32m━━━━━━━━━━━━━━━━━━━━\u001b[0m\u001b[37m\u001b[0m \u001b[1m1s\u001b[0m 7ms/step - loss: 0.0013 - mean_squared_error: 0.0013 - val_loss: 0.0023 - val_mean_squared_error: 0.0023\n"
     ]
    }
   ],
   "source": [
    "# Training\n",
    "history = model.fit(\n",
    "    [X_seq_train, X_num_train],\n",
    "    y_train,\n",
    "    validation_data=([X_seq_test, X_num_test], y_test),\n",
    "    epochs=30,\n",
    "    batch_size=32\n",
    ")"
   ]
  },
  {
   "cell_type": "code",
   "execution_count": 9,
   "id": "34a4fdef",
   "metadata": {
    "execution": {
     "iopub.execute_input": "2025-01-18T13:53:25.782019Z",
     "iopub.status.busy": "2025-01-18T13:53:25.781642Z",
     "iopub.status.idle": "2025-01-18T13:53:25.950141Z",
     "shell.execute_reply": "2025-01-18T13:53:25.949084Z"
    },
    "papermill": {
     "duration": 0.204074,
     "end_time": "2025-01-18T13:53:25.951787",
     "exception": false,
     "start_time": "2025-01-18T13:53:25.747713",
     "status": "completed"
    },
    "tags": []
   },
   "outputs": [
    {
     "name": "stdout",
     "output_type": "stream",
     "text": [
      "\u001b[1m34/34\u001b[0m \u001b[32m━━━━━━━━━━━━━━━━━━━━\u001b[0m\u001b[37m\u001b[0m \u001b[1m0s\u001b[0m 2ms/step - loss: 0.0023 - mean_squared_error: 0.0023\n",
      "Test Loss: 0.0022950104903429747, Test MSE: 0.0022950104903429747\n"
     ]
    }
   ],
   "source": [
    "# Test the efficiency\n",
    "test_loss, test_mse = model.evaluate([X_seq_test, X_num_test], y_test)\n",
    "print(f\"Test Loss: {test_loss}, Test MSE: {test_mse}\")"
   ]
  },
  {
   "cell_type": "code",
   "execution_count": 10,
   "id": "8ec31363",
   "metadata": {
    "execution": {
     "iopub.execute_input": "2025-01-18T13:53:26.018453Z",
     "iopub.status.busy": "2025-01-18T13:53:26.018051Z",
     "iopub.status.idle": "2025-01-18T13:53:26.283260Z",
     "shell.execute_reply": "2025-01-18T13:53:26.282136Z"
    },
    "papermill": {
     "duration": 0.300445,
     "end_time": "2025-01-18T13:53:26.285048",
     "exception": false,
     "start_time": "2025-01-18T13:53:25.984603",
     "status": "completed"
    },
    "tags": []
   },
   "outputs": [
    {
     "data": {
      "image/png": "[encoded data removed]",
      "text/plain": [
       "<Figure size 640x480 with 1 Axes>"
      ]
     },
     "metadata": {},
     "output_type": "display_data"
    }
   ],
   "source": [
    "# Graph the training \n",
    "import matplotlib.pyplot as plt\n",
    "plt.plot(history.history['loss'], label='Training Loss')\n",
    "plt.plot(history.history['val_loss'], label='Validation Loss')\n",
    "plt.xlabel('Epochs')\n",
    "plt.ylabel('Loss')\n",
    "plt.legend()\n",
    "plt.show()"
   ]
  },
  {
   "cell_type": "code",
   "execution_count": 11,
   "id": "0bd3cbcd",
   "metadata": {
    "execution": {
     "iopub.execute_input": "2025-01-18T13:53:26.352538Z",
     "iopub.status.busy": "2025-01-18T13:53:26.352139Z",
     "iopub.status.idle": "2025-01-18T13:53:58.466936Z",
     "shell.execute_reply": "2025-01-18T13:53:58.465839Z"
    },
    "papermill": {
     "duration": 32.150356,
     "end_time": "2025-01-18T13:53:58.468587",
     "exception": false,
     "start_time": "2025-01-18T13:53:26.318231",
     "status": "completed"
    },
    "tags": []
   },
   "outputs": [
    {
     "name": "stdout",
     "output_type": "stream",
     "text": [
      "Epoch 1/30\n",
      "\u001b[1m166/166\u001b[0m \u001b[32m━━━━━━━━━━━━━━━━━━━━\u001b[0m\u001b[37m\u001b[0m \u001b[1m1s\u001b[0m 6ms/step - loss: 0.0017 - mean_squared_error: 0.0017\n",
      "Epoch 2/30\n",
      "\u001b[1m166/166\u001b[0m \u001b[32m━━━━━━━━━━━━━━━━━━━━\u001b[0m\u001b[37m\u001b[0m \u001b[1m1s\u001b[0m 6ms/step - loss: 0.0014 - mean_squared_error: 0.0014\n",
      "Epoch 3/30\n",
      "\u001b[1m166/166\u001b[0m \u001b[32m━━━━━━━━━━━━━━━━━━━━\u001b[0m\u001b[37m\u001b[0m \u001b[1m1s\u001b[0m 6ms/step - loss: 0.0014 - mean_squared_error: 0.0014\n",
      "Epoch 4/30\n",
      "\u001b[1m166/166\u001b[0m \u001b[32m━━━━━━━━━━━━━━━━━━━━\u001b[0m\u001b[37m\u001b[0m \u001b[1m1s\u001b[0m 6ms/step - loss: 0.0012 - mean_squared_error: 0.0012\n",
      "Epoch 5/30\n",
      "\u001b[1m166/166\u001b[0m \u001b[32m━━━━━━━━━━━━━━━━━━━━\u001b[0m\u001b[37m\u001b[0m \u001b[1m1s\u001b[0m 6ms/step - loss: 0.0013 - mean_squared_error: 0.0013\n",
      "Epoch 6/30\n",
      "\u001b[1m166/166\u001b[0m \u001b[32m━━━━━━━━━━━━━━━━━━━━\u001b[0m\u001b[37m\u001b[0m \u001b[1m1s\u001b[0m 6ms/step - loss: 0.0015 - mean_squared_error: 0.0015\n",
      "Epoch 7/30\n",
      "\u001b[1m166/166\u001b[0m \u001b[32m━━━━━━━━━━━━━━━━━━━━\u001b[0m\u001b[37m\u001b[0m \u001b[1m1s\u001b[0m 6ms/step - loss: 0.0013 - mean_squared_error: 0.0013\n",
      "Epoch 8/30\n",
      "\u001b[1m166/166\u001b[0m \u001b[32m━━━━━━━━━━━━━━━━━━━━\u001b[0m\u001b[37m\u001b[0m \u001b[1m1s\u001b[0m 6ms/step - loss: 0.0010 - mean_squared_error: 0.0010\n",
      "Epoch 9/30\n",
      "\u001b[1m166/166\u001b[0m \u001b[32m━━━━━━━━━━━━━━━━━━━━\u001b[0m\u001b[37m\u001b[0m \u001b[1m1s\u001b[0m 6ms/step - loss: 0.0012 - mean_squared_error: 0.0012\n",
      "Epoch 10/30\n",
      "\u001b[1m166/166\u001b[0m \u001b[32m━━━━━━━━━━━━━━━━━━━━\u001b[0m\u001b[37m\u001b[0m \u001b[1m1s\u001b[0m 6ms/step - loss: 0.0011 - mean_squared_error: 0.0011\n",
      "Epoch 11/30\n",
      "\u001b[1m166/166\u001b[0m \u001b[32m━━━━━━━━━━━━━━━━━━━━\u001b[0m\u001b[37m\u001b[0m \u001b[1m1s\u001b[0m 6ms/step - loss: 0.0011 - mean_squared_error: 0.0011\n",
      "Epoch 12/30\n",
      "\u001b[1m166/166\u001b[0m \u001b[32m━━━━━━━━━━━━━━━━━━━━\u001b[0m\u001b[37m\u001b[0m \u001b[1m1s\u001b[0m 7ms/step - loss: 9.3947e-04 - mean_squared_error: 9.3947e-04\n",
      "Epoch 13/30\n",
      "\u001b[1m166/166\u001b[0m \u001b[32m━━━━━━━━━━━━━━━━━━━━\u001b[0m\u001b[37m\u001b[0m \u001b[1m1s\u001b[0m 7ms/step - loss: 8.4643e-04 - mean_squared_error: 8.4643e-04\n",
      "Epoch 14/30\n",
      "\u001b[1m166/166\u001b[0m \u001b[32m━━━━━━━━━━━━━━━━━━━━\u001b[0m\u001b[37m\u001b[0m \u001b[1m1s\u001b[0m 6ms/step - loss: 9.2466e-04 - mean_squared_error: 9.2466e-04\n",
      "Epoch 15/30\n",
      "\u001b[1m166/166\u001b[0m \u001b[32m━━━━━━━━━━━━━━━━━━━━\u001b[0m\u001b[37m\u001b[0m \u001b[1m1s\u001b[0m 6ms/step - loss: 8.8524e-04 - mean_squared_error: 8.8524e-04\n",
      "Epoch 16/30\n",
      "\u001b[1m166/166\u001b[0m \u001b[32m━━━━━━━━━━━━━━━━━━━━\u001b[0m\u001b[37m\u001b[0m \u001b[1m1s\u001b[0m 6ms/step - loss: 9.8762e-04 - mean_squared_error: 9.8762e-04\n",
      "Epoch 17/30\n",
      "\u001b[1m166/166\u001b[0m \u001b[32m━━━━━━━━━━━━━━━━━━━━\u001b[0m\u001b[37m\u001b[0m \u001b[1m1s\u001b[0m 6ms/step - loss: 7.8426e-04 - mean_squared_error: 7.8426e-04\n",
      "Epoch 18/30\n",
      "\u001b[1m166/166\u001b[0m \u001b[32m━━━━━━━━━━━━━━━━━━━━\u001b[0m\u001b[37m\u001b[0m \u001b[1m1s\u001b[0m 6ms/step - loss: 9.9170e-04 - mean_squared_error: 9.9170e-04\n",
      "Epoch 19/30\n",
      "\u001b[1m166/166\u001b[0m \u001b[32m━━━━━━━━━━━━━━━━━━━━\u001b[0m\u001b[37m\u001b[0m \u001b[1m1s\u001b[0m 6ms/step - loss: 7.6340e-04 - mean_squared_error: 7.6340e-04\n",
      "Epoch 20/30\n",
      "\u001b[1m166/166\u001b[0m \u001b[32m━━━━━━━━━━━━━━━━━━━━\u001b[0m\u001b[37m\u001b[0m \u001b[1m1s\u001b[0m 6ms/step - loss: 7.5668e-04 - mean_squared_error: 7.5668e-04\n",
      "Epoch 21/30\n",
      "\u001b[1m166/166\u001b[0m \u001b[32m━━━━━━━━━━━━━━━━━━━━\u001b[0m\u001b[37m\u001b[0m \u001b[1m1s\u001b[0m 6ms/step - loss: 5.5138e-04 - mean_squared_error: 5.5138e-04\n",
      "Epoch 22/30\n",
      "\u001b[1m166/166\u001b[0m \u001b[32m━━━━━━━━━━━━━━━━━━━━\u001b[0m\u001b[37m\u001b[0m \u001b[1m1s\u001b[0m 6ms/step - loss: 5.7421e-04 - mean_squared_error: 5.7421e-04\n",
      "Epoch 23/30\n",
      "\u001b[1m166/166\u001b[0m \u001b[32m━━━━━━━━━━━━━━━━━━━━\u001b[0m\u001b[37m\u001b[0m \u001b[1m1s\u001b[0m 6ms/step - loss: 8.9006e-04 - mean_squared_error: 8.9006e-04\n",
      "Epoch 24/30\n",
      "\u001b[1m166/166\u001b[0m \u001b[32m━━━━━━━━━━━━━━━━━━━━\u001b[0m\u001b[37m\u001b[0m \u001b[1m1s\u001b[0m 6ms/step - loss: 6.8536e-04 - mean_squared_error: 6.8536e-04\n",
      "Epoch 25/30\n",
      "\u001b[1m166/166\u001b[0m \u001b[32m━━━━━━━━━━━━━━━━━━━━\u001b[0m\u001b[37m\u001b[0m \u001b[1m1s\u001b[0m 6ms/step - loss: 6.4834e-04 - mean_squared_error: 6.4834e-04\n",
      "Epoch 26/30\n",
      "\u001b[1m166/166\u001b[0m \u001b[32m━━━━━━━━━━━━━━━━━━━━\u001b[0m\u001b[37m\u001b[0m \u001b[1m1s\u001b[0m 6ms/step - loss: 6.0456e-04 - mean_squared_error: 6.0456e-04\n",
      "Epoch 27/30\n",
      "\u001b[1m166/166\u001b[0m \u001b[32m━━━━━━━━━━━━━━━━━━━━\u001b[0m\u001b[37m\u001b[0m \u001b[1m1s\u001b[0m 6ms/step - loss: 5.8837e-04 - mean_squared_error: 5.8837e-04\n",
      "Epoch 28/30\n",
      "\u001b[1m166/166\u001b[0m \u001b[32m━━━━━━━━━━━━━━━━━━━━\u001b[0m\u001b[37m\u001b[0m \u001b[1m1s\u001b[0m 6ms/step - loss: 4.5860e-04 - mean_squared_error: 4.5860e-04\n",
      "Epoch 29/30\n",
      "\u001b[1m166/166\u001b[0m \u001b[32m━━━━━━━━━━━━━━━━━━━━\u001b[0m\u001b[37m\u001b[0m \u001b[1m1s\u001b[0m 6ms/step - loss: 7.1163e-04 - mean_squared_error: 7.1163e-04\n",
      "Epoch 30/30\n",
      "\u001b[1m166/166\u001b[0m \u001b[32m━━━━━━━━━━━━━━━━━━━━\u001b[0m\u001b[37m\u001b[0m \u001b[1m1s\u001b[0m 6ms/step - loss: 5.6450e-04 - mean_squared_error: 5.6450e-04\n",
      "Model retrained on the full dataset.\n"
     ]
    }
   ],
   "source": [
    "# Training using all data\n",
    "history_full = model.fit(\n",
    "    [sequences_padded, numerical_features_scaled],\n",
    "    labels,\n",
    "    epochs=30,\n",
    "    batch_size=32\n",
    ")\n",
    "\n",
    "print(\"Model retrained on the full dataset.\")\n"
   ]
  },
  {
   "cell_type": "code",
   "execution_count": 12,
   "id": "f3f0cd9d",
   "metadata": {
    "execution": {
     "iopub.execute_input": "2025-01-18T13:53:58.608514Z",
     "iopub.status.busy": "2025-01-18T13:53:58.608127Z",
     "iopub.status.idle": "2025-01-18T13:53:58.849621Z",
     "shell.execute_reply": "2025-01-18T13:53:58.848658Z"
    },
    "papermill": {
     "duration": 0.313434,
     "end_time": "2025-01-18T13:53:58.851272",
     "exception": false,
     "start_time": "2025-01-18T13:53:58.537838",
     "status": "completed"
    },
    "tags": []
   },
   "outputs": [
    {
     "name": "stdout",
     "output_type": "stream",
     "text": [
      "\u001b[1m1/1\u001b[0m \u001b[32m━━━━━━━━━━━━━━━━━━━━\u001b[0m\u001b[37m\u001b[0m \u001b[1m0s\u001b[0m 178ms/step\n",
      "Predicted Efficiency: 0.5194026827812195\n"
     ]
    }
   ],
   "source": [
    "# Test data\n",
    "test_sequence = \"CAGAAAAAAAAACACTGCAACAAGAGGGTA\"\n",
    "test_num_feat = pd.DataFrame(\n",
    "    [[72.87, 360, 0.083682008]], \n",
    "    columns=['Percent Peptide', 'Amino Acid Cut position', 'score_drug_gene_rank']\n",
    ")  # Using dataframes to avoid a feature error\n",
    "\n",
    "# Preprocessing\n",
    "test_sequence_encoded = tokenizer.texts_to_sequences([test_sequence])\n",
    "test_sequence_padded = pad_sequences(test_sequence_encoded, maxlen=30)\n",
    "test_numerical_features_scaled = scaler.transform(test_num_feat)\n",
    "\n",
    "# Predict\n",
    "prediction = model.predict([test_sequence_padded, test_numerical_features_scaled])\n",
    "print(f\"Predicted Efficiency: {prediction[0][0]}\")"
   ]
  }
 ],
 "metadata": {
  "kaggle": {
   "accelerator": "none",
   "dataSources": [
    {
     "datasetId": 6501829,
     "sourceId": 10501728,
     "sourceType": "datasetVersion"
    }
   ],
   "dockerImageVersionId": 30822,
   "isGpuEnabled": false,
   "isInternetEnabled": true,
   "language": "python",
   "sourceType": "notebook"
  },
  "kernelspec": {
   "display_name": "Python 3",
   "language": "python",
   "name": "python3"
  },
  "language_info": {
   "codemirror_mode": {
    "name": "ipython",
    "version": 3
   },
   "file_extension": ".py",
   "mimetype": "text/x-python",
   "name": "python",
   "nbconvert_exporter": "python",
   "pygments_lexer": "ipython3",
   "version": "3.10.12"
  },
  "papermill": {
   "default_parameters": {},
   "duration": 88.07517,
   "end_time": "2025-01-18T13:54:02.234446",
   "environment_variables": {},
   "exception": null,
   "input_path": "__notebook__.ipynb",
   "output_path": "__notebook__.ipynb",
   "parameters": {},
   "start_time": "2025-01-18T13:52:34.159276",
   "version": "2.6.0"
  }
 },
 "nbformat": 4,
 "nbformat_minor": 5
}
