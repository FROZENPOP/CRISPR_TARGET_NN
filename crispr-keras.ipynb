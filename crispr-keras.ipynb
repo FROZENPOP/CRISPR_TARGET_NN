{
 "cells": [
  {
   "cell_type": "code",
   "execution_count": 1,
   "id": "275a6e19",
   "metadata": {
    "_cell_guid": "b1076dfc-b9ad-4769-8c92-a6c4dae69d19",
    "_uuid": "8f2839f25d086af736a60e9eeb907d3b93b6e0e5",
    "execution": {
     "iopub.execute_input": "2025-01-18T05:00:09.364654Z",
     "iopub.status.busy": "2025-01-18T05:00:09.364283Z",
     "iopub.status.idle": "2025-01-18T05:00:28.124682Z",
     "shell.execute_reply": "2025-01-18T05:00:28.123448Z"
    },
    "papermill": {
     "duration": 18.767525,
     "end_time": "2025-01-18T05:00:28.126483",
     "exception": false,
     "start_time": "2025-01-18T05:00:09.358958",
     "status": "completed"
    },
    "tags": []
   },
   "outputs": [
    {
     "name": "stdout",
     "output_type": "stream",
     "text": [
      "/kaggle/input/filteredcsv-crispr/FINAL_FILTERED_CRISPR_DATA.csv\n"
     ]
    },
    {
     "name": "stderr",
     "output_type": "stream",
     "text": [
      "<ipython-input-1-b726eb54b9a5>:32: MatplotlibDeprecationWarning: The seaborn styles shipped by Matplotlib are deprecated since 3.6, as they no longer correspond to the styles shipped by seaborn. However, they will remain available as 'seaborn-v0_8-<style>'. Alternatively, directly use the seaborn API instead.\n",
      "  plt.style.use('seaborn-whitegrid')\n"
     ]
    }
   ],
   "source": [
    "# This Python 3 environment comes with many helpful analytics libraries installed\n",
    "# It is defined by the kaggle/python Docker image: https://github.com/kaggle/docker-python\n",
    "# For example, here's several helpful packages to load\n",
    "\n",
    "import numpy as np # linear algebra\n",
    "import pandas as pd # data processing, CSV file I/O (e.g. pd.read_csv)\n",
    "import torch\n",
    "import torch.nn as nn\n",
    "import torch.nn.functional as F\n",
    "from sklearn.model_selection import train_test_split\n",
    "from sklearn.preprocessing import StandardScaler\n",
    "from tensorflow.keras.preprocessing.text import Tokenizer\n",
    "from keras.preprocessing.sequence import pad_sequences\n",
    "from tensorflow.keras.layers import Input, Embedding, Conv1D, MaxPooling1D, Flatten, Dense, Dropout, BatchNormalization, Concatenate\n",
    "from keras.models import Sequential  \n",
    "from keras.layers import *  \n",
    "from tensorflow import keras\n",
    "from tensorflow.keras import layers\n",
    "from tensorflow.keras import callbacks\n",
    "from tensorflow.keras.models import Model\n",
    "\n",
    "\n",
    "# Input data files are available in the read-only \"../input/\" directory\n",
    "\n",
    "import os\n",
    "for dirname, _, filenames in os.walk('/kaggle/input'):\n",
    "    for filename in filenames:\n",
    "        print(os.path.join(dirname, filename))\n",
    "\n",
    "# Setup plotting\n",
    "import matplotlib.pyplot as plt\n",
    "plt.style.use('seaborn-whitegrid')\n",
    "# Set Matplotlib defaults\n",
    "plt.rc('figure', autolayout=True)\n",
    "plt.rc('axes', labelweight='bold', labelsize='large',\n",
    "       titleweight='bold', titlesize=18, titlepad=10)\n",
    "plt.rc('animation', html='html5')\n",
    "\n"
   ]
  },
  {
   "cell_type": "code",
   "execution_count": 2,
   "id": "74cdbaf1",
   "metadata": {
    "execution": {
     "iopub.execute_input": "2025-01-18T05:00:28.135225Z",
     "iopub.status.busy": "2025-01-18T05:00:28.134567Z",
     "iopub.status.idle": "2025-01-18T05:00:28.207572Z",
     "shell.execute_reply": "2025-01-18T05:00:28.206172Z"
    },
    "papermill": {
     "duration": 0.079168,
     "end_time": "2025-01-18T05:00:28.209449",
     "exception": false,
     "start_time": "2025-01-18T05:00:28.130281",
     "status": "completed"
    },
    "tags": []
   },
   "outputs": [
    {
     "data": {
      "text/html": [
       "<div>\n",
       "<style scoped>\n",
       "    .dataframe tbody tr th:only-of-type {\n",
       "        vertical-align: middle;\n",
       "    }\n",
       "\n",
       "    .dataframe tbody tr th {\n",
       "        vertical-align: top;\n",
       "    }\n",
       "\n",
       "    .dataframe thead th {\n",
       "        text-align: right;\n",
       "    }\n",
       "</style>\n",
       "<table border=\"1\" class=\"dataframe\">\n",
       "  <thead>\n",
       "    <tr style=\"text-align: right;\">\n",
       "      <th></th>\n",
       "      <th>Unnamed: 0</th>\n",
       "      <th>30mer</th>\n",
       "      <th>Target gene</th>\n",
       "      <th>Percent Peptide</th>\n",
       "      <th>Amino Acid Cut position</th>\n",
       "      <th>score_drug_gene_rank</th>\n",
       "      <th>score_drug_gene_threshold</th>\n",
       "      <th>drug</th>\n",
       "      <th>predictions</th>\n",
       "      <th>model_predictions</th>\n",
       "      <th>predictions(30mer)</th>\n",
       "    </tr>\n",
       "  </thead>\n",
       "  <tbody>\n",
       "    <tr>\n",
       "      <th>0</th>\n",
       "      <td>0</td>\n",
       "      <td>CAGAAAAAAAAACACTGCAACAAGAGGGTA</td>\n",
       "      <td>CD5</td>\n",
       "      <td>72.87</td>\n",
       "      <td>360.0</td>\n",
       "      <td>0.083682</td>\n",
       "      <td>0</td>\n",
       "      <td>nodrug</td>\n",
       "      <td>0.544412</td>\n",
       "      <td>[0.50806356]</td>\n",
       "      <td>[0.4836564]</td>\n",
       "    </tr>\n",
       "    <tr>\n",
       "      <th>1</th>\n",
       "      <td>1</td>\n",
       "      <td>TTTTAAAAAACCTACCGTAAACTCGGGTCA</td>\n",
       "      <td>NF1</td>\n",
       "      <td>65.80</td>\n",
       "      <td>1868.0</td>\n",
       "      <td>0.868207</td>\n",
       "      <td>1</td>\n",
       "      <td>PLX_2uM</td>\n",
       "      <td>0.617512</td>\n",
       "      <td>[0.62796874]</td>\n",
       "      <td>[0.55252229]</td>\n",
       "    </tr>\n",
       "    <tr>\n",
       "      <th>2</th>\n",
       "      <td>2</td>\n",
       "      <td>TCAGAAAAAGCAGCGTCAGTGGATTGGCCC</td>\n",
       "      <td>CD5</td>\n",
       "      <td>84.21</td>\n",
       "      <td>416.0</td>\n",
       "      <td>0.184100</td>\n",
       "      <td>0</td>\n",
       "      <td>nodrug</td>\n",
       "      <td>0.476232</td>\n",
       "      <td>[0.43904996]</td>\n",
       "      <td>[0.48895234]</td>\n",
       "    </tr>\n",
       "    <tr>\n",
       "      <th>3</th>\n",
       "      <td>3</td>\n",
       "      <td>AATAAAAAATAGGATTCCCAGCTTTGGAAG</td>\n",
       "      <td>NF1</td>\n",
       "      <td>56.39</td>\n",
       "      <td>1601.0</td>\n",
       "      <td>0.432065</td>\n",
       "      <td>0</td>\n",
       "      <td>PLX_2uM</td>\n",
       "      <td>0.459882</td>\n",
       "      <td>[0.41283168]</td>\n",
       "      <td>[0.38075222]</td>\n",
       "    </tr>\n",
       "    <tr>\n",
       "      <th>4</th>\n",
       "      <td>4</td>\n",
       "      <td>GATGAAAAATATGTAAACAGCATTTGGGAC</td>\n",
       "      <td>CUL3</td>\n",
       "      <td>4.30</td>\n",
       "      <td>33.0</td>\n",
       "      <td>0.149351</td>\n",
       "      <td>0</td>\n",
       "      <td>PLX_2uM</td>\n",
       "      <td>0.290841</td>\n",
       "      <td>[0.24229578]</td>\n",
       "      <td>[0.25223681]</td>\n",
       "    </tr>\n",
       "  </tbody>\n",
       "</table>\n",
       "</div>"
      ],
      "text/plain": [
       "   Unnamed: 0                           30mer Target gene  Percent Peptide  \\\n",
       "0           0  CAGAAAAAAAAACACTGCAACAAGAGGGTA         CD5            72.87   \n",
       "1           1  TTTTAAAAAACCTACCGTAAACTCGGGTCA         NF1            65.80   \n",
       "2           2  TCAGAAAAAGCAGCGTCAGTGGATTGGCCC         CD5            84.21   \n",
       "3           3  AATAAAAAATAGGATTCCCAGCTTTGGAAG         NF1            56.39   \n",
       "4           4  GATGAAAAATATGTAAACAGCATTTGGGAC        CUL3             4.30   \n",
       "\n",
       "   Amino Acid Cut position  score_drug_gene_rank  score_drug_gene_threshold  \\\n",
       "0                    360.0              0.083682                          0   \n",
       "1                   1868.0              0.868207                          1   \n",
       "2                    416.0              0.184100                          0   \n",
       "3                   1601.0              0.432065                          0   \n",
       "4                     33.0              0.149351                          0   \n",
       "\n",
       "      drug  predictions model_predictions predictions(30mer)  \n",
       "0   nodrug     0.544412      [0.50806356]        [0.4836564]  \n",
       "1  PLX_2uM     0.617512      [0.62796874]       [0.55252229]  \n",
       "2   nodrug     0.476232      [0.43904996]       [0.48895234]  \n",
       "3  PLX_2uM     0.459882      [0.41283168]       [0.38075222]  \n",
       "4  PLX_2uM     0.290841      [0.24229578]       [0.25223681]  "
      ]
     },
     "execution_count": 2,
     "metadata": {},
     "output_type": "execute_result"
    }
   ],
   "source": [
    "#Sets up the data\n",
    "cas = pd.read_csv('../input/filteredcsv-crispr/FINAL_FILTERED_CRISPR_DATA.csv')\n",
    "sequences = cas['30mer']\n",
    "numerical_features = cas[['Percent Peptide', 'Amino Acid Cut position', 'score_drug_gene_rank']]\n",
    "labels = cas['predictions']\n",
    "\n",
    "cas.head()"
   ]
  },
  {
   "cell_type": "code",
   "execution_count": 3,
   "id": "329e8312",
   "metadata": {
    "execution": {
     "iopub.execute_input": "2025-01-18T05:00:28.218175Z",
     "iopub.status.busy": "2025-01-18T05:00:28.217760Z",
     "iopub.status.idle": "2025-01-18T05:00:28.325118Z",
     "shell.execute_reply": "2025-01-18T05:00:28.324009Z"
    },
    "papermill": {
     "duration": 0.113376,
     "end_time": "2025-01-18T05:00:28.326709",
     "exception": false,
     "start_time": "2025-01-18T05:00:28.213333",
     "status": "completed"
    },
    "tags": []
   },
   "outputs": [
    {
     "data": {
      "text/plain": [
       "((4248, 30), (1062, 30), (4248, 3), (1062, 3), (4248,), (1062,))"
      ]
     },
     "execution_count": 3,
     "metadata": {},
     "output_type": "execute_result"
    }
   ],
   "source": [
    "\n",
    "tokenizer = Tokenizer(char_level=True)  # Treat each nucleotide as a character\n",
    "tokenizer.fit_on_texts(sequences)\n",
    "sequences_encoded = tokenizer.texts_to_sequences(sequences)\n",
    "sequences_padded = pad_sequences(sequences_encoded, maxlen=30)  # 30mer\n",
    "\n",
    "# Normalization\n",
    "scaler = StandardScaler()\n",
    "numerical_features_scaled = scaler.fit_transform(numerical_features)\n",
    "\n",
    "# Split the data into training and testing sets\n",
    "X_seq_train, X_seq_test, X_num_train, X_num_test, y_train, y_test = train_test_split(\n",
    "    sequences_padded, numerical_features_scaled, labels, test_size=0.2, random_state=42\n",
    ")\n",
    "\n",
    "\n",
    "(X_seq_train.shape, X_seq_test.shape, X_num_train.shape, X_num_test.shape, y_train.shape, y_test.shape)"
   ]
  },
  {
   "cell_type": "code",
   "execution_count": 4,
   "id": "b80b9ae1",
   "metadata": {
    "execution": {
     "iopub.execute_input": "2025-01-18T05:00:28.335094Z",
     "iopub.status.busy": "2025-01-18T05:00:28.334702Z",
     "iopub.status.idle": "2025-01-18T05:00:28.432166Z",
     "shell.execute_reply": "2025-01-18T05:00:28.431047Z"
    },
    "papermill": {
     "duration": 0.103775,
     "end_time": "2025-01-18T05:00:28.434212",
     "exception": false,
     "start_time": "2025-01-18T05:00:28.330437",
     "status": "completed"
    },
    "tags": []
   },
   "outputs": [],
   "source": [
    "# Define the model extra features\n",
    "seq_input = Input(shape=(30,), name='seq_input')\n",
    "embedding = Embedding(input_dim=5, output_dim=16)(seq_input)\n",
    "conv1 = Conv1D(filters=64, kernel_size=3, activation='relu')(embedding)\n",
    "pool1 = MaxPooling1D(pool_size=2)(conv1)\n",
    "conv2 = Conv1D(filters=128, kernel_size=3, activation='relu')(pool1)\n",
    "pool2 = MaxPooling1D(pool_size=2)(conv2)\n",
    "flatten_seq = Flatten()(pool2)\n"
   ]
  },
  {
   "cell_type": "code",
   "execution_count": 5,
   "id": "a2789ab3",
   "metadata": {
    "execution": {
     "iopub.execute_input": "2025-01-18T05:00:28.442912Z",
     "iopub.status.busy": "2025-01-18T05:00:28.442544Z",
     "iopub.status.idle": "2025-01-18T05:00:28.504552Z",
     "shell.execute_reply": "2025-01-18T05:00:28.503489Z"
    },
    "papermill": {
     "duration": 0.068207,
     "end_time": "2025-01-18T05:00:28.506427",
     "exception": false,
     "start_time": "2025-01-18T05:00:28.438220",
     "status": "completed"
    },
    "tags": []
   },
   "outputs": [],
   "source": [
    "# input for numerical collumns\n",
    "num_input = Input(shape=(3,), name='num_input')\n",
    "bn1 = BatchNormalization()(num_input)\n",
    "dense1 = Dense(256, activation='relu')(bn1)\n",
    "bn2 = BatchNormalization()(dense1)\n",
    "dropout1 = Dropout(0.3)(bn2)\n",
    "dense2 = Dense(256, activation='relu')(dropout1)\n",
    "bn3 = BatchNormalization()(dense2)\n",
    "dropout2 = Dropout(0.3)(bn3)\n",
    "dense3 = Dense(128, activation='relu')(dropout2)"
   ]
  },
  {
   "cell_type": "code",
   "execution_count": 6,
   "id": "e3ebc603",
   "metadata": {
    "execution": {
     "iopub.execute_input": "2025-01-18T05:00:28.515071Z",
     "iopub.status.busy": "2025-01-18T05:00:28.514657Z",
     "iopub.status.idle": "2025-01-18T05:00:28.536684Z",
     "shell.execute_reply": "2025-01-18T05:00:28.535560Z"
    },
    "papermill": {
     "duration": 0.028237,
     "end_time": "2025-01-18T05:00:28.538426",
     "exception": false,
     "start_time": "2025-01-18T05:00:28.510189",
     "status": "completed"
    },
    "tags": []
   },
   "outputs": [],
   "source": [
    "# Combine the features\n",
    "combined = Concatenate()([flatten_seq, dense3])\n",
    "fc_combined = Dense(64, activation='relu')(combined)\n",
    "output = Dense(1, activation='linear', name='output')(fc_combined)"
   ]
  },
  {
   "cell_type": "code",
   "execution_count": 7,
   "id": "b3fa1177",
   "metadata": {
    "execution": {
     "iopub.execute_input": "2025-01-18T05:00:28.548642Z",
     "iopub.status.busy": "2025-01-18T05:00:28.548309Z",
     "iopub.status.idle": "2025-01-18T05:00:28.565655Z",
     "shell.execute_reply": "2025-01-18T05:00:28.564613Z"
    },
    "papermill": {
     "duration": 0.023602,
     "end_time": "2025-01-18T05:00:28.567519",
     "exception": false,
     "start_time": "2025-01-18T05:00:28.543917",
     "status": "completed"
    },
    "tags": []
   },
   "outputs": [],
   "source": [
    "# Model\n",
    "model = Model(inputs=[seq_input, num_input], outputs=output)\n",
    "model.compile(optimizer='adam', loss='mean_squared_error', metrics=['mean_squared_error'])"
   ]
  },
  {
   "cell_type": "code",
   "execution_count": 8,
   "id": "d59da0ae",
   "metadata": {
    "execution": {
     "iopub.execute_input": "2025-01-18T05:00:28.576177Z",
     "iopub.status.busy": "2025-01-18T05:00:28.575742Z",
     "iopub.status.idle": "2025-01-18T05:01:00.430272Z",
     "shell.execute_reply": "2025-01-18T05:01:00.429366Z"
    },
    "papermill": {
     "duration": 31.860692,
     "end_time": "2025-01-18T05:01:00.432133",
     "exception": false,
     "start_time": "2025-01-18T05:00:28.571441",
     "status": "completed"
    },
    "tags": []
   },
   "outputs": [
    {
     "name": "stdout",
     "output_type": "stream",
     "text": [
      "Epoch 1/30\n",
      "\u001b[1m133/133\u001b[0m \u001b[32m━━━━━━━━━━━━━━━━━━━━\u001b[0m\u001b[37m\u001b[0m \u001b[1m5s\u001b[0m 8ms/step - loss: 0.0538 - mean_squared_error: 0.0538 - val_loss: 0.0172 - val_mean_squared_error: 0.0172\n",
      "Epoch 2/30\n",
      "\u001b[1m133/133\u001b[0m \u001b[32m━━━━━━━━━━━━━━━━━━━━\u001b[0m\u001b[37m\u001b[0m \u001b[1m1s\u001b[0m 6ms/step - loss: 0.0119 - mean_squared_error: 0.0119 - val_loss: 0.0082 - val_mean_squared_error: 0.0082\n",
      "Epoch 3/30\n",
      "\u001b[1m133/133\u001b[0m \u001b[32m━━━━━━━━━━━━━━━━━━━━\u001b[0m\u001b[37m\u001b[0m \u001b[1m1s\u001b[0m 7ms/step - loss: 0.0069 - mean_squared_error: 0.0069 - val_loss: 0.0059 - val_mean_squared_error: 0.0059\n",
      "Epoch 4/30\n",
      "\u001b[1m133/133\u001b[0m \u001b[32m━━━━━━━━━━━━━━━━━━━━\u001b[0m\u001b[37m\u001b[0m \u001b[1m1s\u001b[0m 7ms/step - loss: 0.0049 - mean_squared_error: 0.0049 - val_loss: 0.0037 - val_mean_squared_error: 0.0037\n",
      "Epoch 5/30\n",
      "\u001b[1m133/133\u001b[0m \u001b[32m━━━━━━━━━━━━━━━━━━━━\u001b[0m\u001b[37m\u001b[0m \u001b[1m1s\u001b[0m 7ms/step - loss: 0.0046 - mean_squared_error: 0.0046 - val_loss: 0.0031 - val_mean_squared_error: 0.0031\n",
      "Epoch 6/30\n",
      "\u001b[1m133/133\u001b[0m \u001b[32m━━━━━━━━━━━━━━━━━━━━\u001b[0m\u001b[37m\u001b[0m \u001b[1m1s\u001b[0m 7ms/step - loss: 0.0044 - mean_squared_error: 0.0044 - val_loss: 0.0030 - val_mean_squared_error: 0.0030\n",
      "Epoch 7/30\n",
      "\u001b[1m133/133\u001b[0m \u001b[32m━━━━━━━━━━━━━━━━━━━━\u001b[0m\u001b[37m\u001b[0m \u001b[1m1s\u001b[0m 7ms/step - loss: 0.0038 - mean_squared_error: 0.0038 - val_loss: 0.0040 - val_mean_squared_error: 0.0040\n",
      "Epoch 8/30\n",
      "\u001b[1m133/133\u001b[0m \u001b[32m━━━━━━━━━━━━━━━━━━━━\u001b[0m\u001b[37m\u001b[0m \u001b[1m1s\u001b[0m 7ms/step - loss: 0.0035 - mean_squared_error: 0.0035 - val_loss: 0.0032 - val_mean_squared_error: 0.0032\n",
      "Epoch 9/30\n",
      "\u001b[1m133/133\u001b[0m \u001b[32m━━━━━━━━━━━━━━━━━━━━\u001b[0m\u001b[37m\u001b[0m \u001b[1m1s\u001b[0m 7ms/step - loss: 0.0031 - mean_squared_error: 0.0031 - val_loss: 0.0030 - val_mean_squared_error: 0.0030\n",
      "Epoch 10/30\n",
      "\u001b[1m133/133\u001b[0m \u001b[32m━━━━━━━━━━━━━━━━━━━━\u001b[0m\u001b[37m\u001b[0m \u001b[1m1s\u001b[0m 7ms/step - loss: 0.0029 - mean_squared_error: 0.0029 - val_loss: 0.0025 - val_mean_squared_error: 0.0025\n",
      "Epoch 11/30\n",
      "\u001b[1m133/133\u001b[0m \u001b[32m━━━━━━━━━━━━━━━━━━━━\u001b[0m\u001b[37m\u001b[0m \u001b[1m1s\u001b[0m 7ms/step - loss: 0.0035 - mean_squared_error: 0.0035 - val_loss: 0.0025 - val_mean_squared_error: 0.0025\n",
      "Epoch 12/30\n",
      "\u001b[1m133/133\u001b[0m \u001b[32m━━━━━━━━━━━━━━━━━━━━\u001b[0m\u001b[37m\u001b[0m \u001b[1m1s\u001b[0m 7ms/step - loss: 0.0027 - mean_squared_error: 0.0027 - val_loss: 0.0037 - val_mean_squared_error: 0.0037\n",
      "Epoch 13/30\n",
      "\u001b[1m133/133\u001b[0m \u001b[32m━━━━━━━━━━━━━━━━━━━━\u001b[0m\u001b[37m\u001b[0m \u001b[1m1s\u001b[0m 7ms/step - loss: 0.0029 - mean_squared_error: 0.0029 - val_loss: 0.0042 - val_mean_squared_error: 0.0042\n",
      "Epoch 14/30\n",
      "\u001b[1m133/133\u001b[0m \u001b[32m━━━━━━━━━━━━━━━━━━━━\u001b[0m\u001b[37m\u001b[0m \u001b[1m1s\u001b[0m 7ms/step - loss: 0.0032 - mean_squared_error: 0.0032 - val_loss: 0.0026 - val_mean_squared_error: 0.0026\n",
      "Epoch 15/30\n",
      "\u001b[1m133/133\u001b[0m \u001b[32m━━━━━━━━━━━━━━━━━━━━\u001b[0m\u001b[37m\u001b[0m \u001b[1m1s\u001b[0m 7ms/step - loss: 0.0023 - mean_squared_error: 0.0023 - val_loss: 0.0065 - val_mean_squared_error: 0.0065\n",
      "Epoch 16/30\n",
      "\u001b[1m133/133\u001b[0m \u001b[32m━━━━━━━━━━━━━━━━━━━━\u001b[0m\u001b[37m\u001b[0m \u001b[1m1s\u001b[0m 7ms/step - loss: 0.0030 - mean_squared_error: 0.0030 - val_loss: 0.0026 - val_mean_squared_error: 0.0026\n",
      "Epoch 17/30\n",
      "\u001b[1m133/133\u001b[0m \u001b[32m━━━━━━━━━━━━━━━━━━━━\u001b[0m\u001b[37m\u001b[0m \u001b[1m1s\u001b[0m 7ms/step - loss: 0.0022 - mean_squared_error: 0.0022 - val_loss: 0.0037 - val_mean_squared_error: 0.0037\n",
      "Epoch 18/30\n",
      "\u001b[1m133/133\u001b[0m \u001b[32m━━━━━━━━━━━━━━━━━━━━\u001b[0m\u001b[37m\u001b[0m \u001b[1m1s\u001b[0m 7ms/step - loss: 0.0023 - mean_squared_error: 0.0023 - val_loss: 0.0025 - val_mean_squared_error: 0.0025\n",
      "Epoch 19/30\n",
      "\u001b[1m133/133\u001b[0m \u001b[32m━━━━━━━━━━━━━━━━━━━━\u001b[0m\u001b[37m\u001b[0m \u001b[1m1s\u001b[0m 7ms/step - loss: 0.0023 - mean_squared_error: 0.0023 - val_loss: 0.0028 - val_mean_squared_error: 0.0028\n",
      "Epoch 20/30\n",
      "\u001b[1m133/133\u001b[0m \u001b[32m━━━━━━━━━━━━━━━━━━━━\u001b[0m\u001b[37m\u001b[0m \u001b[1m1s\u001b[0m 7ms/step - loss: 0.0025 - mean_squared_error: 0.0025 - val_loss: 0.0031 - val_mean_squared_error: 0.0031\n",
      "Epoch 21/30\n",
      "\u001b[1m133/133\u001b[0m \u001b[32m━━━━━━━━━━━━━━━━━━━━\u001b[0m\u001b[37m\u001b[0m \u001b[1m1s\u001b[0m 8ms/step - loss: 0.0020 - mean_squared_error: 0.0020 - val_loss: 0.0023 - val_mean_squared_error: 0.0023\n",
      "Epoch 22/30\n",
      "\u001b[1m133/133\u001b[0m \u001b[32m━━━━━━━━━━━━━━━━━━━━\u001b[0m\u001b[37m\u001b[0m \u001b[1m1s\u001b[0m 7ms/step - loss: 0.0023 - mean_squared_error: 0.0023 - val_loss: 0.0025 - val_mean_squared_error: 0.0025\n",
      "Epoch 23/30\n",
      "\u001b[1m133/133\u001b[0m \u001b[32m━━━━━━━━━━━━━━━━━━━━\u001b[0m\u001b[37m\u001b[0m \u001b[1m1s\u001b[0m 7ms/step - loss: 0.0018 - mean_squared_error: 0.0018 - val_loss: 0.0026 - val_mean_squared_error: 0.0026\n",
      "Epoch 24/30\n",
      "\u001b[1m133/133\u001b[0m \u001b[32m━━━━━━━━━━━━━━━━━━━━\u001b[0m\u001b[37m\u001b[0m \u001b[1m1s\u001b[0m 7ms/step - loss: 0.0019 - mean_squared_error: 0.0019 - val_loss: 0.0026 - val_mean_squared_error: 0.0026\n",
      "Epoch 25/30\n",
      "\u001b[1m133/133\u001b[0m \u001b[32m━━━━━━━━━━━━━━━━━━━━\u001b[0m\u001b[37m\u001b[0m \u001b[1m1s\u001b[0m 7ms/step - loss: 0.0020 - mean_squared_error: 0.0020 - val_loss: 0.0026 - val_mean_squared_error: 0.0026\n",
      "Epoch 26/30\n",
      "\u001b[1m133/133\u001b[0m \u001b[32m━━━━━━━━━━━━━━━━━━━━\u001b[0m\u001b[37m\u001b[0m \u001b[1m1s\u001b[0m 7ms/step - loss: 0.0014 - mean_squared_error: 0.0014 - val_loss: 0.0031 - val_mean_squared_error: 0.0031\n",
      "Epoch 27/30\n",
      "\u001b[1m133/133\u001b[0m \u001b[32m━━━━━━━━━━━━━━━━━━━━\u001b[0m\u001b[37m\u001b[0m \u001b[1m1s\u001b[0m 7ms/step - loss: 0.0025 - mean_squared_error: 0.0025 - val_loss: 0.0027 - val_mean_squared_error: 0.0027\n",
      "Epoch 28/30\n",
      "\u001b[1m133/133\u001b[0m \u001b[32m━━━━━━━━━━━━━━━━━━━━\u001b[0m\u001b[37m\u001b[0m \u001b[1m1s\u001b[0m 7ms/step - loss: 0.0016 - mean_squared_error: 0.0016 - val_loss: 0.0025 - val_mean_squared_error: 0.0025\n",
      "Epoch 29/30\n",
      "\u001b[1m133/133\u001b[0m \u001b[32m━━━━━━━━━━━━━━━━━━━━\u001b[0m\u001b[37m\u001b[0m \u001b[1m1s\u001b[0m 7ms/step - loss: 0.0017 - mean_squared_error: 0.0017 - val_loss: 0.0025 - val_mean_squared_error: 0.0025\n",
      "Epoch 30/30\n",
      "\u001b[1m133/133\u001b[0m \u001b[32m━━━━━━━━━━━━━━━━━━━━\u001b[0m\u001b[37m\u001b[0m \u001b[1m1s\u001b[0m 7ms/step - loss: 0.0015 - mean_squared_error: 0.0015 - val_loss: 0.0024 - val_mean_squared_error: 0.0024\n"
     ]
    }
   ],
   "source": [
    "# Training\n",
    "history = model.fit(\n",
    "    [X_seq_train, X_num_train],\n",
    "    y_train,\n",
    "    validation_data=([X_seq_test, X_num_test], y_test),\n",
    "    epochs=30,\n",
    "    batch_size=32\n",
    ")"
   ]
  },
  {
   "cell_type": "code",
   "execution_count": 9,
   "id": "921e7e05",
   "metadata": {
    "execution": {
     "iopub.execute_input": "2025-01-18T05:01:00.498035Z",
     "iopub.status.busy": "2025-01-18T05:01:00.497659Z",
     "iopub.status.idle": "2025-01-18T05:01:00.663968Z",
     "shell.execute_reply": "2025-01-18T05:01:00.662919Z"
    },
    "papermill": {
     "duration": 0.200524,
     "end_time": "2025-01-18T05:01:00.665861",
     "exception": false,
     "start_time": "2025-01-18T05:01:00.465337",
     "status": "completed"
    },
    "tags": []
   },
   "outputs": [
    {
     "name": "stdout",
     "output_type": "stream",
     "text": [
      "\u001b[1m34/34\u001b[0m \u001b[32m━━━━━━━━━━━━━━━━━━━━\u001b[0m\u001b[37m\u001b[0m \u001b[1m0s\u001b[0m 2ms/step - loss: 0.0023 - mean_squared_error: 0.0023\n",
      "Test Loss: 0.0024250266142189503, Test MSE: 0.0024250266142189503\n"
     ]
    }
   ],
   "source": [
    "# Test the efficiency\n",
    "test_loss, test_mse = model.evaluate([X_seq_test, X_num_test], y_test)\n",
    "print(f\"Test Loss: {test_loss}, Test MSE: {test_mse}\")"
   ]
  },
  {
   "cell_type": "code",
   "execution_count": 10,
   "id": "68dd9748",
   "metadata": {
    "execution": {
     "iopub.execute_input": "2025-01-18T05:01:00.730827Z",
     "iopub.status.busy": "2025-01-18T05:01:00.730453Z",
     "iopub.status.idle": "2025-01-18T05:01:01.143226Z",
     "shell.execute_reply": "2025-01-18T05:01:01.142200Z"
    },
    "papermill": {
     "duration": 0.446996,
     "end_time": "2025-01-18T05:01:01.144857",
     "exception": false,
     "start_time": "2025-01-18T05:01:00.697861",
     "status": "completed"
    },
    "tags": []
   },
   "outputs": [
    {
     "data": {
      "image/png": "[encoded data removed]",
      "text/plain": [
       "<Figure size 640x480 with 1 Axes>"
      ]
     },
     "metadata": {},
     "output_type": "display_data"
    }
   ],
   "source": [
    "# Graph the training \n",
    "import matplotlib.pyplot as plt\n",
    "plt.plot(history.history['loss'], label='Training Loss')\n",
    "plt.plot(history.history['val_loss'], label='Validation Loss')\n",
    "plt.xlabel('Epochs')\n",
    "plt.ylabel('Loss')\n",
    "plt.legend()\n",
    "plt.show()"
   ]
  },
  {
   "cell_type": "code",
   "execution_count": 11,
   "id": "0c34e591",
   "metadata": {
    "execution": {
     "iopub.execute_input": "2025-01-18T05:01:01.211988Z",
     "iopub.status.busy": "2025-01-18T05:01:01.211587Z",
     "iopub.status.idle": "2025-01-18T05:01:32.209189Z",
     "shell.execute_reply": "2025-01-18T05:01:32.208206Z"
    },
    "papermill": {
     "duration": 31.033102,
     "end_time": "2025-01-18T05:01:32.210826",
     "exception": false,
     "start_time": "2025-01-18T05:01:01.177724",
     "status": "completed"
    },
    "tags": []
   },
   "outputs": [
    {
     "name": "stdout",
     "output_type": "stream",
     "text": [
      "Epoch 1/30\n",
      "\u001b[1m166/166\u001b[0m \u001b[32m━━━━━━━━━━━━━━━━━━━━\u001b[0m\u001b[37m\u001b[0m \u001b[1m1s\u001b[0m 6ms/step - loss: 0.0016 - mean_squared_error: 0.0016\n",
      "Epoch 2/30\n",
      "\u001b[1m166/166\u001b[0m \u001b[32m━━━━━━━━━━━━━━━━━━━━\u001b[0m\u001b[37m\u001b[0m \u001b[1m1s\u001b[0m 6ms/step - loss: 0.0015 - mean_squared_error: 0.0015\n",
      "Epoch 3/30\n",
      "\u001b[1m166/166\u001b[0m \u001b[32m━━━━━━━━━━━━━━━━━━━━\u001b[0m\u001b[37m\u001b[0m \u001b[1m1s\u001b[0m 6ms/step - loss: 0.0014 - mean_squared_error: 0.0014\n",
      "Epoch 4/30\n",
      "\u001b[1m166/166\u001b[0m \u001b[32m━━━━━━━━━━━━━━━━━━━━\u001b[0m\u001b[37m\u001b[0m \u001b[1m1s\u001b[0m 6ms/step - loss: 0.0015 - mean_squared_error: 0.0015\n",
      "Epoch 5/30\n",
      "\u001b[1m166/166\u001b[0m \u001b[32m━━━━━━━━━━━━━━━━━━━━\u001b[0m\u001b[37m\u001b[0m \u001b[1m1s\u001b[0m 6ms/step - loss: 0.0015 - mean_squared_error: 0.0015\n",
      "Epoch 6/30\n",
      "\u001b[1m166/166\u001b[0m \u001b[32m━━━━━━━━━━━━━━━━━━━━\u001b[0m\u001b[37m\u001b[0m \u001b[1m1s\u001b[0m 6ms/step - loss: 0.0016 - mean_squared_error: 0.0016\n",
      "Epoch 7/30\n",
      "\u001b[1m166/166\u001b[0m \u001b[32m━━━━━━━━━━━━━━━━━━━━\u001b[0m\u001b[37m\u001b[0m \u001b[1m1s\u001b[0m 6ms/step - loss: 0.0012 - mean_squared_error: 0.0012\n",
      "Epoch 8/30\n",
      "\u001b[1m166/166\u001b[0m \u001b[32m━━━━━━━━━━━━━━━━━━━━\u001b[0m\u001b[37m\u001b[0m \u001b[1m1s\u001b[0m 6ms/step - loss: 0.0015 - mean_squared_error: 0.0015\n",
      "Epoch 9/30\n",
      "\u001b[1m166/166\u001b[0m \u001b[32m━━━━━━━━━━━━━━━━━━━━\u001b[0m\u001b[37m\u001b[0m \u001b[1m1s\u001b[0m 6ms/step - loss: 0.0015 - mean_squared_error: 0.0015\n",
      "Epoch 10/30\n",
      "\u001b[1m166/166\u001b[0m \u001b[32m━━━━━━━━━━━━━━━━━━━━\u001b[0m\u001b[37m\u001b[0m \u001b[1m1s\u001b[0m 6ms/step - loss: 0.0012 - mean_squared_error: 0.0012\n",
      "Epoch 11/30\n",
      "\u001b[1m166/166\u001b[0m \u001b[32m━━━━━━━━━━━━━━━━━━━━\u001b[0m\u001b[37m\u001b[0m \u001b[1m1s\u001b[0m 6ms/step - loss: 0.0012 - mean_squared_error: 0.0012\n",
      "Epoch 12/30\n",
      "\u001b[1m166/166\u001b[0m \u001b[32m━━━━━━━━━━━━━━━━━━━━\u001b[0m\u001b[37m\u001b[0m \u001b[1m1s\u001b[0m 6ms/step - loss: 0.0011 - mean_squared_error: 0.0011\n",
      "Epoch 13/30\n",
      "\u001b[1m166/166\u001b[0m \u001b[32m━━━━━━━━━━━━━━━━━━━━\u001b[0m\u001b[37m\u001b[0m \u001b[1m1s\u001b[0m 6ms/step - loss: 9.7662e-04 - mean_squared_error: 9.7662e-04\n",
      "Epoch 14/30\n",
      "\u001b[1m166/166\u001b[0m \u001b[32m━━━━━━━━━━━━━━━━━━━━\u001b[0m\u001b[37m\u001b[0m \u001b[1m1s\u001b[0m 6ms/step - loss: 9.4411e-04 - mean_squared_error: 9.4411e-04\n",
      "Epoch 15/30\n",
      "\u001b[1m166/166\u001b[0m \u001b[32m━━━━━━━━━━━━━━━━━━━━\u001b[0m\u001b[37m\u001b[0m \u001b[1m1s\u001b[0m 6ms/step - loss: 9.8892e-04 - mean_squared_error: 9.8892e-04\n",
      "Epoch 16/30\n",
      "\u001b[1m166/166\u001b[0m \u001b[32m━━━━━━━━━━━━━━━━━━━━\u001b[0m\u001b[37m\u001b[0m \u001b[1m1s\u001b[0m 6ms/step - loss: 0.0011 - mean_squared_error: 0.0011\n",
      "Epoch 17/30\n",
      "\u001b[1m166/166\u001b[0m \u001b[32m━━━━━━━━━━━━━━━━━━━━\u001b[0m\u001b[37m\u001b[0m \u001b[1m1s\u001b[0m 6ms/step - loss: 9.0839e-04 - mean_squared_error: 9.0839e-04\n",
      "Epoch 18/30\n",
      "\u001b[1m166/166\u001b[0m \u001b[32m━━━━━━━━━━━━━━━━━━━━\u001b[0m\u001b[37m\u001b[0m \u001b[1m1s\u001b[0m 6ms/step - loss: 8.5828e-04 - mean_squared_error: 8.5828e-04\n",
      "Epoch 19/30\n",
      "\u001b[1m166/166\u001b[0m \u001b[32m━━━━━━━━━━━━━━━━━━━━\u001b[0m\u001b[37m\u001b[0m \u001b[1m1s\u001b[0m 6ms/step - loss: 9.1179e-04 - mean_squared_error: 9.1179e-04\n",
      "Epoch 20/30\n",
      "\u001b[1m166/166\u001b[0m \u001b[32m━━━━━━━━━━━━━━━━━━━━\u001b[0m\u001b[37m\u001b[0m \u001b[1m1s\u001b[0m 6ms/step - loss: 7.2768e-04 - mean_squared_error: 7.2768e-04\n",
      "Epoch 21/30\n",
      "\u001b[1m166/166\u001b[0m \u001b[32m━━━━━━━━━━━━━━━━━━━━\u001b[0m\u001b[37m\u001b[0m \u001b[1m1s\u001b[0m 6ms/step - loss: 6.6294e-04 - mean_squared_error: 6.6294e-04\n",
      "Epoch 22/30\n",
      "\u001b[1m166/166\u001b[0m \u001b[32m━━━━━━━━━━━━━━━━━━━━\u001b[0m\u001b[37m\u001b[0m \u001b[1m1s\u001b[0m 7ms/step - loss: 6.6887e-04 - mean_squared_error: 6.6887e-04\n",
      "Epoch 23/30\n",
      "\u001b[1m166/166\u001b[0m \u001b[32m━━━━━━━━━━━━━━━━━━━━\u001b[0m\u001b[37m\u001b[0m \u001b[1m1s\u001b[0m 6ms/step - loss: 8.8298e-04 - mean_squared_error: 8.8298e-04\n",
      "Epoch 24/30\n",
      "\u001b[1m166/166\u001b[0m \u001b[32m━━━━━━━━━━━━━━━━━━━━\u001b[0m\u001b[37m\u001b[0m \u001b[1m1s\u001b[0m 6ms/step - loss: 6.8106e-04 - mean_squared_error: 6.8106e-04\n",
      "Epoch 25/30\n",
      "\u001b[1m166/166\u001b[0m \u001b[32m━━━━━━━━━━━━━━━━━━━━\u001b[0m\u001b[37m\u001b[0m \u001b[1m1s\u001b[0m 6ms/step - loss: 5.9055e-04 - mean_squared_error: 5.9055e-04\n",
      "Epoch 26/30\n",
      "\u001b[1m166/166\u001b[0m \u001b[32m━━━━━━━━━━━━━━━━━━━━\u001b[0m\u001b[37m\u001b[0m \u001b[1m1s\u001b[0m 6ms/step - loss: 7.2181e-04 - mean_squared_error: 7.2181e-04\n",
      "Epoch 27/30\n",
      "\u001b[1m166/166\u001b[0m \u001b[32m━━━━━━━━━━━━━━━━━━━━\u001b[0m\u001b[37m\u001b[0m \u001b[1m1s\u001b[0m 6ms/step - loss: 8.6336e-04 - mean_squared_error: 8.6336e-04\n",
      "Epoch 28/30\n",
      "\u001b[1m166/166\u001b[0m \u001b[32m━━━━━━━━━━━━━━━━━━━━\u001b[0m\u001b[37m\u001b[0m \u001b[1m1s\u001b[0m 6ms/step - loss: 7.3433e-04 - mean_squared_error: 7.3433e-04\n",
      "Epoch 29/30\n",
      "\u001b[1m166/166\u001b[0m \u001b[32m━━━━━━━━━━━━━━━━━━━━\u001b[0m\u001b[37m\u001b[0m \u001b[1m1s\u001b[0m 6ms/step - loss: 6.5154e-04 - mean_squared_error: 6.5154e-04\n",
      "Epoch 30/30\n",
      "\u001b[1m166/166\u001b[0m \u001b[32m━━━━━━━━━━━━━━━━━━━━\u001b[0m\u001b[37m\u001b[0m \u001b[1m1s\u001b[0m 6ms/step - loss: 5.2800e-04 - mean_squared_error: 5.2800e-04\n",
      "Model retrained on the full dataset.\n"
     ]
    }
   ],
   "source": [
    "# Training using all data\n",
    "history_full = model.fit(\n",
    "    [sequences_padded, numerical_features_scaled],\n",
    "    labels,\n",
    "    epochs=30,\n",
    "    batch_size=32\n",
    ")\n",
    "\n",
    "print(\"Model retrained on the full dataset.\")\n"
   ]
  },
  {
   "cell_type": "code",
   "execution_count": 12,
   "id": "7beb10e9",
   "metadata": {
    "execution": {
     "iopub.execute_input": "2025-01-18T05:01:32.345142Z",
     "iopub.status.busy": "2025-01-18T05:01:32.344719Z",
     "iopub.status.idle": "2025-01-18T05:01:32.573514Z",
     "shell.execute_reply": "2025-01-18T05:01:32.572512Z"
    },
    "papermill": {
     "duration": 0.297676,
     "end_time": "2025-01-18T05:01:32.575232",
     "exception": false,
     "start_time": "2025-01-18T05:01:32.277556",
     "status": "completed"
    },
    "tags": []
   },
   "outputs": [
    {
     "name": "stderr",
     "output_type": "stream",
     "text": [
      "/usr/local/lib/python3.10/dist-packages/sklearn/base.py:439: UserWarning: X does not have valid feature names, but StandardScaler was fitted with feature names\n",
      "  warnings.warn(\n"
     ]
    },
    {
     "name": "stdout",
     "output_type": "stream",
     "text": [
      "\u001b[1m1/1\u001b[0m \u001b[32m━━━━━━━━━━━━━━━━━━━━\u001b[0m\u001b[37m\u001b[0m \u001b[1m0s\u001b[0m 168ms/step\n",
      "Predicted Efficiency: 0.5633714199066162\n"
     ]
    }
   ],
   "source": [
    "test_sequence = \"CAGAAAAAAAAACACTGCAACAAGAGGGTA\"\n",
    "test_num_feat = np.array([[72.87, 360, 0.083682008]]) #percent peptide, cut position, score_drug_gene_rank\n",
    "\n",
    "# Preprocessing\n",
    "test_sequence_encoded = tokenizer.texts_to_sequences([test_sequence])\n",
    "test_sequence_padded = pad_sequences(test_sequence_encoded, maxlen=30)\n",
    "test_numerical_features_scaled = scaler.transform(test_num_feat)\n",
    "\n",
    "# Predict\n",
    "prediction = model.predict([test_sequence_padded, test_numerical_features_scaled])\n",
    "print(f\"Predicted Efficiency: {prediction[0][0]}\")"
   ]
  }
 ],
 "metadata": {
  "kaggle": {
   "accelerator": "none",
   "dataSources": [
    {
     "datasetId": 6501829,
     "sourceId": 10501728,
     "sourceType": "datasetVersion"
    }
   ],
   "dockerImageVersionId": 30822,
   "isGpuEnabled": false,
   "isInternetEnabled": true,
   "language": "python",
   "sourceType": "notebook"
  },
  "kernelspec": {
   "display_name": "Python 3",
   "language": "python",
   "name": "python3"
  },
  "language_info": {
   "codemirror_mode": {
    "name": "ipython",
    "version": 3
   },
   "file_extension": ".py",
   "mimetype": "text/x-python",
   "name": "python",
   "nbconvert_exporter": "python",
   "pygments_lexer": "ipython3",
   "version": "3.10.12"
  },
  "papermill": {
   "default_parameters": {},
   "duration": 89.129348,
   "end_time": "2025-01-18T05:01:35.490933",
   "environment_variables": {},
   "exception": null,
   "input_path": "__notebook__.ipynb",
   "output_path": "__notebook__.ipynb",
   "parameters": {},
   "start_time": "2025-01-18T05:00:06.361585",
   "version": "2.6.0"
  }
 },
 "nbformat": 4,
 "nbformat_minor": 5
}
